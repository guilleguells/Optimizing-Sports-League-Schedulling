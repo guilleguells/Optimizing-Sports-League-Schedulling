{
 "cells": [
  {
   "cell_type": "code",
   "execution_count": 13,
   "metadata": {},
   "outputs": [],
   "source": [
    "from gurobipy import Model, GRB, quicksum"
   ]
  },
  {
   "cell_type": "markdown",
   "metadata": {},
   "source": [
    "Defining Teams and Strength Categories"
   ]
  },
  {
   "cell_type": "code",
   "execution_count": 14,
   "metadata": {},
   "outputs": [],
   "source": [
    "num_teams = 10\n",
    "teams = list(range(num_teams))"
   ]
  },
  {
   "cell_type": "code",
   "execution_count": 15,
   "metadata": {},
   "outputs": [],
   "source": [
    "num_weeks = num_teams-1\n",
    "weeks = list(range(num_weeks))"
   ]
  },
  {
   "cell_type": "code",
   "execution_count": 16,
   "metadata": {},
   "outputs": [],
   "source": [
    "# Dictionary of Ranking of Teams\n",
    "# \n",
    "ranking = {\n",
    "    1: teams[:3],  # Category 1\n",
    "    2: teams[3:6], # Category 2\n",
    "    3: teams[6:],  # Category 3\n",
    "}"
   ]
  },
  {
   "cell_type": "code",
   "execution_count": 17,
   "metadata": {},
   "outputs": [],
   "source": [
    "def get_stronger_teams(team: int, ranking: dict) -> list:\n",
    "    if team in ranking[3]:\n",
    "        return list(ranking[1]) + list(ranking[2])\n",
    "    elif team in ranking[2]:\n",
    "        return list(ranking[1])\n",
    "    elif team in ranking[1]:\n",
    "        return []"
   ]
  },
  {
   "cell_type": "code",
   "execution_count": 18,
   "metadata": {},
   "outputs": [],
   "source": [
    "# Set of teams located in the same town\n",
    "D = [(0,5)]  "
   ]
  },
  {
   "cell_type": "markdown",
   "metadata": {},
   "source": [
    "Defining Variables"
   ]
  },
  {
   "cell_type": "code",
   "execution_count": 19,
   "metadata": {},
   "outputs": [],
   "source": [
    "# Create the model\n",
    "model = Model(\"Round_Robin_Scheduling\")\n",
    "\n",
    "# Binary decision variable: x[i,j,w] is 1 if team i is the home team and team j is the away team on week w\n",
    "x = model.addVars(num_teams, num_teams, num_weeks, vtype=GRB.BINARY, name=\"x\")\n",
    "\n",
    "# Binary decision variable: y[i,w] is 1 if team i is playing at home on week w and w+1\n",
    "y = model.addVars(num_teams, num_weeks-1, vtype=GRB.BINARY, name=\"y\")\n",
    "\n",
    "# Binary decision variable: z[i,w] is 1 if team i is playing at away on week w and w+1\n",
    "z = model.addVars(num_teams, num_weeks-1, vtype=GRB.BINARY, name=\"z\")\n",
    "\n",
    "# Binary variable: s[i,w] is 1 if consecutive unfair matchups occur on week w and w+1\n",
    "s = model.addVars(num_teams, num_weeks-1, vtype=GRB.BINARY, name=\"s \")"
   ]
  },
  {
   "cell_type": "markdown",
   "metadata": {},
   "source": [
    "Objective function "
   ]
  },
  {
   "cell_type": "code",
   "execution_count": 20,
   "metadata": {},
   "outputs": [],
   "source": [
    "# Objective function (4.1a)\n",
    "model.setObjective(\n",
    "    quicksum(s[i,w] for i in teams for w in weeks[:-1]),\n",
    "    GRB.MINIMIZE\n",
    "    )"
   ]
  },
  {
   "cell_type": "markdown",
   "metadata": {},
   "source": [
    "Format Requirements for a SRR schedule"
   ]
  },
  {
   "cell_type": "code",
   "execution_count": 21,
   "metadata": {},
   "outputs": [],
   "source": [
    "# Constraint (4.1b): Each team plays against every other team exactly once                    \n",
    "for i in teams:\n",
    "    for j in teams:\n",
    "        if i < j:\n",
    "            model.addConstr(quicksum(x[i, j, w] + x[j, i, w] for w in weeks) == 1, name=\"4.1b_{}_{}\".format(i, j))\n",
    "\n",
    "# Constraint (4.1c): Each team plays exactly once per week\n",
    "for i in teams:\n",
    "    for w in weeks:\n",
    "        model.addConstr(quicksum(x[i, j, w] + x[j, i, w] for j in teams if j != i) == 1, name=\"4.1c_{}_{}\".format(i, w))\n",
    "\n",
    "# Constraint (4.1e): Home/away balance for each team\n",
    "for i in teams:\n",
    "    model.addConstr(quicksum(x[i, j, w] for j in teams if j != i for w in weeks) >=  num_weeks // 2     , name=\"4.1e_lwr_{}\".format(i))\n",
    "for i in range(num_teams):\n",
    "    model.addConstr(quicksum(x[i, j, w] for j in teams if j != i for w in weeks) <= (num_weeks // 2) + 1, name=\"4.1e_upr_{}\".format(i))"
   ]
  },
  {
   "cell_type": "markdown",
   "metadata": {},
   "source": [
    "Breaks Requirement"
   ]
  },
  {
   "cell_type": "code",
   "execution_count": 22,
   "metadata": {},
   "outputs": [],
   "source": [
    "# Preventing consecutive Home Breaks\n",
    "# Constraint (4.1h)\n",
    "for i in teams:\n",
    "    for w in weeks[:-1]:\n",
    "        for j in teams:\n",
    "            for j_prime in teams:\n",
    "                if  i != j and j != j_prime and i != j_prime:\n",
    "                    model.addConstr(x[i, j, w] + x[i, j_prime, w+1] <= 1 + y[i, w], name=\"4.1h_{}_{}_{}\".format(i, j, j_prime))\n",
    "# Constraint (4.1l) \n",
    "for i in teams:\n",
    "    for w in weeks[:-2]:\n",
    "        model.addConstr(y[i, w] + y[i, w+1] <= 1, name=\"4.1l_{}_{}\".format(i, w))\n",
    "\n",
    "\n",
    "# Prevent consecutive Away Breaks\n",
    "# Constraint (4.1k)\n",
    "for i in teams:\n",
    "    for w in weeks[:-1]:\n",
    "        for j in teams:\n",
    "            for j_prime in teams:\n",
    "                if  i != j and j != j_prime and i != j_prime:\n",
    "                    model.addConstr(x[j, i, w] + x[j_prime, i, w+1] <= 1 + z[i, w], name=\"4.1k_{}_{}_{}\".format(i, j, j_prime))\n",
    "# Constraint (4.1m) \n",
    "for i in teams:\n",
    "    for w in weeks[:-2]:\n",
    "        model.addConstr(z[i, w] + z[i, w+1] <= 1, name=\"4.1m_{}_{}\".format(i, w))"
   ]
  },
  {
   "cell_type": "markdown",
   "metadata": {},
   "source": [
    "Venue Restriction"
   ]
  },
  {
   "cell_type": "code",
   "execution_count": 23,
   "metadata": {},
   "outputs": [],
   "source": [
    "# Constraint: Cities (Stadium) Restriction                              \n",
    "for (ii,jj) in D:\n",
    "    for w in weeks:\n",
    "        model.addConstr(   quicksum(x[ii,j,w] for j in teams if j!=ii)\n",
    "                         + quicksum(x[jj,i,w] for i in teams if i!=jj) == 1, name=\"4.1n_{}_{}_{}\".format(ii,jj,w))"
   ]
  },
  {
   "cell_type": "markdown",
   "metadata": {},
   "source": [
    "Strength Constraints"
   ]
  },
  {
   "cell_type": "code",
   "execution_count": 24,
   "metadata": {},
   "outputs": [],
   "source": [
    "# Constraint (4.1o)\n",
    "for i in teams:\n",
    "  S_i = get_stronger_teams(i, ranking)\n",
    "  for w in weeks[:-1]:\n",
    "    model.addConstr(s[i,w] >= quicksum(x[i,j,w]   + x[j,i,w]   for j in S_i)\n",
    "                                    + \n",
    "                              quicksum(x[i,j,w+1] + x[j,i,w+1] for j in S_i) \n",
    "                                    - 1, name=\"4.1o_{}_{}\".format(i, w))\n",
    "\n",
    "# Constraint (4.1p)\n",
    "for i in teams:\n",
    "    S_i = get_stronger_teams(i, ranking)\n",
    "    for w in weeks[:-1]:\n",
    "      model.addConstr(s[i,w] <= quicksum(x[i,j,w]   + x[j,i,w]   for j in S_i), name=\"4.1p_{}_{}\".format(i, w))\n",
    "\n",
    "# Constraint (4.1q)\n",
    "for i in teams:\n",
    "    S_i = get_stronger_teams(i, ranking)\n",
    "    for w in weeks[:-1]:\n",
    "      model.addConstr(s[i,w] <= quicksum(x[i,j,w+1] + x[j,i,w+1] for j in S_i), name=\"4.1q_{}_{}\".format(i, w))"
   ]
  },
  {
   "cell_type": "markdown",
   "metadata": {},
   "source": [
    "Solving the Model"
   ]
  },
  {
   "cell_type": "code",
   "execution_count": null,
   "metadata": {},
   "outputs": [
    {
     "name": "stdout",
     "output_type": "stream",
     "text": [
      "Gurobi Optimizer version 11.0.3 build v11.0.3rc0 (win64 - Windows 10.0 (19045.2))\n",
      "\n",
      "CPU model: AMD Ryzen 7 5800H with Radeon Graphics, instruction set [SSE2|AVX|AVX2]\n",
      "Thread count: 8 physical cores, 16 logical processors, using up to 16 threads\n",
      "\n",
      "Optimize a model with 12064 rows, 1140 columns and 41404 nonzeros\n",
      "Model fingerprint: 0x4180fcdb\n",
      "Variable types: 0 continuous, 1140 integer (1140 binary)\n",
      "Coefficient statistics:\n",
      "  Matrix range     [1e+00, 1e+00]\n",
      "  Objective range  [1e+00, 1e+00]\n",
      "  Bounds range     [1e+00, 1e+00]\n",
      "  RHS range        [1e+00, 5e+00]\n",
      "Presolve removed 112 rows and 154 columns\n",
      "Presolve time: 0.07s\n",
      "Presolved: 11952 rows, 986 columns, 41252 nonzeros\n",
      "Variable types: 0 continuous, 986 integer (986 binary)\n",
      "\n",
      "Use crossover to convert LP symmetric solution to basic solution...\n",
      "\n",
      "Root relaxation: objective 8.000000e+00, 398 iterations, 0.05 seconds (0.04 work units)\n",
      "\n",
      "    Nodes    |    Current Node    |     Objective Bounds      |     Work\n",
      " Expl Unexpl |  Obj  Depth IntInf | Incumbent    BestBd   Gap | It/Node Time\n",
      "\n",
      "     0     0    8.00000    0  138          -    8.00000      -     -    0s\n",
      "H    0     0                      13.0000000    8.00000  38.5%     -    0s\n",
      "     0     0    8.00000    0  187   13.00000    8.00000  38.5%     -    0s\n",
      "     0     0    8.00000    0  171   13.00000    8.00000  38.5%     -    0s\n",
      "     0     0    8.00000    0   38   13.00000    8.00000  38.5%     -    1s\n",
      "H    0     0                       8.0000000    8.00000  0.00%     -    1s\n",
      "     0     0    8.00000    0   38    8.00000    8.00000  0.00%     -    1s\n",
      "\n",
      "Cutting planes:\n",
      "  Clique: 2\n",
      "  RLT: 8\n",
      "\n",
      "Explored 1 nodes (5931 simplex iterations) in 1.58 seconds (1.80 work units)\n",
      "Thread count was 16 (of 16 available processors)\n",
      "\n",
      "Solution count 2: 8 13 \n",
      "\n",
      "Optimal solution found (tolerance 1.00e-04)\n",
      "Best objective 8.000000000000e+00, best bound 8.000000000000e+00, gap 0.0000%\n",
      "CPU times: total: 4.05 s\n",
      "Wall time: 1.59 s\n"
     ]
    }
   ],
   "source": [
    "%%time\n",
    "\n",
    "# Solve the model\n",
    "model.optimize()"
   ]
  },
  {
   "cell_type": "code",
   "execution_count": 26,
   "metadata": {},
   "outputs": [
    {
     "name": "stdout",
     "output_type": "stream",
     "text": [
      "Total Constraints: 12064\n",
      "Total Variables:   1140\n"
     ]
    }
   ],
   "source": [
    "print(f\"Total Constraints: {model.NumConstrs}\")\n",
    "print(f\"Total Variables:   {model.NumVars}\"   )"
   ]
  },
  {
   "cell_type": "markdown",
   "metadata": {},
   "source": [
    "Displaying Results"
   ]
  },
  {
   "cell_type": "code",
   "execution_count": 27,
   "metadata": {},
   "outputs": [
    {
     "name": "stdout",
     "output_type": "stream",
     "text": [
      "Optimal Schedule:\n",
      "Week 1:\n",
      "2 v 9:         Team 2 (Home) vs. Team 9 (Away)\n",
      "5 v 7:         Team 5 (Home) vs. Team 7 (Away)\n",
      "4 v 6:         Team 6 (Home) vs. Team 4 (Away)\n",
      "3 v 8:         Team 8 (Home) vs. Team 3 (Away)\n",
      "1 v 10:         Team 10 (Home) vs. Team 1 (Away)\n",
      "Week 2:\n",
      "1 v 8:         Team 1 (Home) vs. Team 8 (Away)\n",
      "2 v 5:         Team 2 (Home) vs. Team 5 (Away)\n",
      "3 v 4:         Team 3 (Home) vs. Team 4 (Away)\n",
      "7 v 10:         Team 7 (Home) vs. Team 10 (Away)\n",
      "6 v 9:         Team 9 (Home) vs. Team 6 (Away)\n",
      "Week 3:\n",
      "1 v 3:         Team 3 (Home) vs. Team 1 (Away)\n",
      "4 v 7:         Team 4 (Home) vs. Team 7 (Away)\n",
      "5 v 10:         Team 5 (Home) vs. Team 10 (Away)\n",
      "2 v 6:         Team 6 (Home) vs. Team 2 (Away)\n",
      "8 v 9:         Team 8 (Home) vs. Team 9 (Away)\n",
      "Week 4:\n",
      "1 v 4:         Team 1 (Home) vs. Team 4 (Away)\n",
      "5 v 8:         Team 5 (Home) vs. Team 8 (Away)\n",
      "6 v 7:         Team 7 (Home) vs. Team 6 (Away)\n",
      "3 v 9:         Team 9 (Home) vs. Team 3 (Away)\n",
      "2 v 10:         Team 10 (Home) vs. Team 2 (Away)\n",
      "Week 5:\n",
      "1 v 6:         Team 1 (Home) vs. Team 6 (Away)\n",
      "2 v 8:         Team 2 (Home) vs. Team 8 (Away)\n",
      "3 v 5:         Team 3 (Home) vs. Team 5 (Away)\n",
      "7 v 9:         Team 9 (Home) vs. Team 7 (Away)\n",
      "4 v 10:         Team 10 (Home) vs. Team 4 (Away)\n",
      "Week 6:\n",
      "2 v 3:         Team 3 (Home) vs. Team 2 (Away)\n",
      "4 v 9:         Team 4 (Home) vs. Team 9 (Away)\n",
      "5 v 6:         Team 6 (Home) vs. Team 5 (Away)\n",
      "1 v 7:         Team 7 (Home) vs. Team 1 (Away)\n",
      "8 v 10:         Team 8 (Home) vs. Team 10 (Away)\n",
      "Week 7:\n",
      "2 v 7:         Team 2 (Home) vs. Team 7 (Away)\n",
      "4 v 5:         Team 5 (Home) vs. Team 4 (Away)\n",
      "6 v 8:         Team 6 (Home) vs. Team 8 (Away)\n",
      "1 v 9:         Team 9 (Home) vs. Team 1 (Away)\n",
      "3 v 10:         Team 10 (Home) vs. Team 3 (Away)\n",
      "Week 8:\n",
      "1 v 5:         Team 1 (Home) vs. Team 5 (Away)\n",
      "3 v 6:         Team 3 (Home) vs. Team 6 (Away)\n",
      "2 v 4:         Team 4 (Home) vs. Team 2 (Away)\n",
      "7 v 8:         Team 8 (Home) vs. Team 7 (Away)\n",
      "9 v 10:         Team 9 (Home) vs. Team 10 (Away)\n",
      "Week 9:\n",
      "1 v 2:         Team 1 (Home) vs. Team 2 (Away)\n",
      "4 v 8:         Team 4 (Home) vs. Team 8 (Away)\n",
      "5 v 9:         Team 5 (Home) vs. Team 9 (Away)\n",
      "3 v 7:         Team 7 (Home) vs. Team 3 (Away)\n",
      "6 v 10:         Team 10 (Home) vs. Team 6 (Away)\n",
      "\n",
      "Total Cost (Optimized Objective Value): 8.0\n"
     ]
    }
   ],
   "source": [
    "# Output the schedule if feasible is found\n",
    "if model.status == GRB.OPTIMAL:\n",
    "    print(\"Optimal Schedule:\")\n",
    "    for w in weeks:\n",
    "        print(f\"Week {w + 1}:\")\n",
    "        for i in teams:\n",
    "            for j in teams:\n",
    "                if i != j and x[i, j, w].x > 0.5:\n",
    "                    # Normal print\n",
    "                    # print(f\"  Team {i + 1} (Home) vs. Team {j + 1} (Away)\")\n",
    "                    \n",
    "                    # Checking if schedule (without H/A specs) works\n",
    "                    if i > j:\n",
    "                        print(f\"{j+1} v {i+1}:         Team {i + 1} (Home) vs. Team {j + 1} (Away)\")\n",
    "                    else:\n",
    "                        print(f\"{i+1} v {j+1}:         Team {i + 1} (Home) vs. Team {j + 1} (Away)\")\n",
    "                    \n",
    "    print(f\"\\nTotal Cost (Optimized Objective Value): {model.objVal}\")\n",
    "\n",
    "else:\n",
    "    print(\"No optimal solution found.\")\n",
    "    # model.status == GRB.INFEASIBLE:\n",
    "    model.computeIIS()  # Compute Irreducible Inconsistent Subsystem (IIS)\n",
    "    model.write(\"infeasible_constraints.ilp\")  # Save infeasible constraints to file\n"
   ]
  }
 ],
 "metadata": {
  "kernelspec": {
   "display_name": "Python 3",
   "language": "python",
   "name": "python3"
  },
  "language_info": {
   "codemirror_mode": {
    "name": "ipython",
    "version": 3
   },
   "file_extension": ".py",
   "mimetype": "text/x-python",
   "name": "python",
   "nbconvert_exporter": "python",
   "pygments_lexer": "ipython3",
   "version": "3.10.11"
  }
 },
 "nbformat": 4,
 "nbformat_minor": 2
}
